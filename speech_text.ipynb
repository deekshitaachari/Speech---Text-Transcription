{
 "cells": [
  {
   "cell_type": "code",
   "execution_count": null,
   "id": "e35e9722-bd9e-466f-a762-35dfb746feb3",
   "metadata": {},
   "outputs": [],
   "source": [
    "from pydub import AudioSegment\n",
    "\n",
    "sound = AudioSegment.from_mp3(\"sample.mp3\")\n",
    "sound.export(\"sample.wav\", format=\"wav\")\n",
    "\n",
    "import speech_recognition as sr\n",
    "\n",
    "def transcribe_audio(file_path):\n",
    "    # Initialize recognizer\n",
    "    recognizer = sr.Recognizer()\n",
    "\n",
    "    # Load the audio file\n",
    "    with sr.AudioFile(file_path) as source:\n",
    "        print(\"Fetching audio data...\")\n",
    "        audio_data = recognizer.record(source)  # Read the entire audio file\n",
    "    \n",
    "    try:\n",
    "        # Convert speech to text using Google Web Speech API\n",
    "        text = recognizer.recognize_google(audio_data)\n",
    "        print(\"\\nTranscription:\\n\")\n",
    "        print(text)\n",
    "    except sr.UnknownValueError:\n",
    "        print(\"Sorry, the audio was not clear enough to transcribe.\")\n",
    "    except sr.RequestError as e:\n",
    "        print(f\"Could not request results; {e}\")\n",
    "\n",
    "# Example usage\n",
    "if __name__ == \"__main__\":\n",
    "    # Replace with your audio file (must be WAV/AIFF/FLAC format)\n",
    "    audio_file = \"sample.wav\"\n",
    "    transcribe_audio(audio_file)"
   ]
  }
 ],
 "metadata": {
  "kernelspec": {
   "display_name": "Python 3 (ipykernel)",
   "language": "python",
   "name": "python3"
  },
  "language_info": {
   "codemirror_mode": {
    "name": "ipython",
    "version": 3
   },
   "file_extension": ".py",
   "mimetype": "text/x-python",
   "name": "python",
   "nbconvert_exporter": "python",
   "pygments_lexer": "ipython3",
   "version": "3.12.7"
  }
 },
 "nbformat": 4,
 "nbformat_minor": 5
}
